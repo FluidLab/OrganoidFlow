{
 "cells": [
  {
   "cell_type": "code",
   "execution_count": 1,
   "id": "c384ebd6-91d0-420e-a0a2-505013a4d4fa",
   "metadata": {},
   "outputs": [
    {
     "name": "stdout",
     "output_type": "stream",
     "text": [
      "Python Platform macOS-13.5-arm64-arm-64bit\n",
      "Tensorflow version 2.9.2\n",
      "Keras version 2.9.0\n",
      "sklearn version 1.3.0\n",
      "Pandas version 2.0.3\n",
      "Python 3.10.12 | packaged by conda-forge | (main, Jun 23 2023, 22:41:52) [Clang 15.0.7 ]\n",
      "GPU is available\n"
     ]
    }
   ],
   "source": [
    "# What sys version\n",
    "\n",
    "import sys\n",
    "\n",
    "import tensorflow.keras\n",
    "import pandas as pd\n",
    "import sklearn as sk\n",
    "import tensorflow as tf\n",
    "import platform\n",
    "\n",
    "print(f\"Python Platform {platform.platform()}\")\n",
    "print(f\"Tensorflow version {tf.__version__}\")\n",
    "print(f\"Keras version {tensorflow.keras.__version__}\")\n",
    "print(f\"sklearn version {sk.__version__}\")\n",
    "print(f\"Pandas version {pd.__version__}\")\n",
    "\n",
    "print(f\"Python {sys.version}\")\n",
    "\n",
    "gpu = len(tf.config.list_physical_devices('GPU'))>0\n",
    "print(\"GPU is\", \"available\" if gpu else \"NOT AVAILABLE\")"
   ]
  },
  {
   "cell_type": "code",
   "execution_count": 4,
   "id": "bada734c-90a5-4bfb-84e3-71e16a11eef3",
   "metadata": {},
   "outputs": [
    {
     "name": "stdout",
     "output_type": "stream",
     "text": [
      "Stardist 0.8.5\n"
     ]
    }
   ],
   "source": [
    "from stardist import random_label_cmap\n",
    "from stardist.models import StarDist3D\n",
    "import stardist as sd\n",
    "print(f\"Stardist {sd.__version__}\")"
   ]
  },
  {
   "cell_type": "code",
   "execution_count": null,
   "id": "e7d49ebc-18cf-4c0d-ad32-a072cdcb9069",
   "metadata": {},
   "outputs": [],
   "source": []
  }
 ],
 "metadata": {
  "kernelspec": {
   "display_name": "Python 3.10 (tensorflow)",
   "language": "python",
   "name": "tensorflow"
  },
  "language_info": {
   "codemirror_mode": {
    "name": "ipython",
    "version": 3
   },
   "file_extension": ".py",
   "mimetype": "text/x-python",
   "name": "python",
   "nbconvert_exporter": "python",
   "pygments_lexer": "ipython3",
   "version": "3.10.12"
  }
 },
 "nbformat": 4,
 "nbformat_minor": 5
}
